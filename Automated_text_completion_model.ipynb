{
  "nbformat": 4,
  "nbformat_minor": 0,
  "metadata": {
    "colab": {
      "provenance": [],
      "gpuType": "T4",
      "private_outputs": true
    },
    "kernelspec": {
      "name": "python3",
      "display_name": "Python 3"
    },
    "language_info": {
      "name": "python"
    },
    "accelerator": "GPU"
  },
  "cells": [
    {
      "cell_type": "code",
      "source": [
        "!pip install datasets evaluate"
      ],
      "metadata": {
        "id": "7Hzbsb6pSy4t"
      },
      "execution_count": null,
      "outputs": []
    },
    {
      "cell_type": "code",
      "execution_count": null,
      "metadata": {
        "id": "jKf46564SF0H"
      },
      "outputs": [],
      "source": [
        "import torch\n",
        "from transformers import (\n",
        "    AutoTokenizer,\n",
        "    AutoModelForCausalLM,\n",
        "    TrainingArguments,\n",
        "    Trainer,\n",
        "    DataCollatorForLanguageModeling\n",
        ")\n",
        "from datasets import load_dataset, DatasetDict\n",
        "import evaluate\n",
        "import numpy as np"
      ]
    },
    {
      "cell_type": "code",
      "source": [
        "device = \"cuda\" if torch.cuda.is_available() else \"cpu\"\n",
        "print(f\"Using device: {device}\")"
      ],
      "metadata": {
        "id": "hEGacJM7SuYn"
      },
      "execution_count": null,
      "outputs": []
    },
    {
      "cell_type": "code",
      "source": [
        "def load_and_clean_dataset():\n",
        "    dataset = load_dataset(\"wikitext\", \"wikitext-2-v1\")\n",
        "    dataset = dataset.filter(lambda example: example[\"text\"].strip() != \"\")\n",
        "    dataset = dataset.map(lambda example: {\"text\": example[\"text\"].strip()})\n",
        "\n",
        "    # Reduce dataset size\n",
        "    dataset[\"train\"] = dataset[\"train\"].select(range(15000))\n",
        "    dataset[\"validation\"] = dataset[\"validation\"].select(range(2000))\n",
        "    dataset[\"test\"] = dataset[\"test\"].select(range(2000))\n",
        "\n",
        "    return dataset"
      ],
      "metadata": {
        "id": "psUxjqPiUAH0"
      },
      "execution_count": null,
      "outputs": []
    },
    {
      "cell_type": "code",
      "source": [
        "print(\"Loading and cleaning data...\")\n",
        "dataset = load_and_clean_dataset()"
      ],
      "metadata": {
        "id": "UkZqoxzJo3n_"
      },
      "execution_count": null,
      "outputs": []
    },
    {
      "cell_type": "code",
      "source": [
        "dataset"
      ],
      "metadata": {
        "id": "ehFHtba5UBY5"
      },
      "execution_count": null,
      "outputs": []
    },
    {
      "cell_type": "code",
      "source": [
        "tokenizer = AutoTokenizer.from_pretrained(\"distilgpt2\")\n",
        "tokenizer.pad_token = tokenizer.eos_token\n",
        "\n",
        "def tokenize_function(examples):\n",
        "    return tokenizer(\n",
        "        examples[\"text\"],\n",
        "        truncation=True,\n",
        "        max_length=512,\n",
        "        return_special_tokens_mask=True\n",
        "    )\n",
        "\n",
        "tokenized_datasets = dataset.map(\n",
        "    tokenize_function,\n",
        "    batched=True,\n",
        "    remove_columns=[\"text\"]\n",
        ")"
      ],
      "metadata": {
        "id": "n2SDk2cCUPKV"
      },
      "execution_count": null,
      "outputs": []
    },
    {
      "cell_type": "code",
      "source": [
        "data_collator = DataCollatorForLanguageModeling(\n",
        "    tokenizer=tokenizer,\n",
        "    mlm=False  # Using causal language modeling (not masked)\n",
        ")"
      ],
      "metadata": {
        "id": "loSVqpiNUnyK"
      },
      "execution_count": null,
      "outputs": []
    },
    {
      "cell_type": "code",
      "source": [
        "model = AutoModelForCausalLM.from_pretrained(\"distilgpt2\")\n",
        "model.to(device)"
      ],
      "metadata": {
        "id": "-D4Mxud2Uuiw"
      },
      "execution_count": null,
      "outputs": []
    },
    {
      "cell_type": "code",
      "source": [
        "training_args = TrainingArguments(\n",
        "    output_dir=\"./text_completion_model_distilgpt2\",\n",
        "    overwrite_output_dir=True,\n",
        "    evaluation_strategy=\"steps\",\n",
        "    eval_steps=200,\n",
        "    learning_rate=5e-5,  # Slightly higher learning rate for small dataset\n",
        "    weight_decay=0.01,\n",
        "    per_device_train_batch_size=4,  # Reduced batch size\n",
        "    per_device_eval_batch_size=4,\n",
        "    num_train_epochs=3,  # Reduced epochs\n",
        "    logging_dir=\"./logs_small\",\n",
        "    logging_steps=50,\n",
        "    save_strategy=\"steps\",\n",
        "    save_steps=200,\n",
        "    save_total_limit=1,\n",
        "    load_best_model_at_end=True,\n",
        "    fp16=torch.cuda.is_available(),\n",
        "    gradient_accumulation_steps=2,  # Helps with small batch sizes\n",
        "    report_to=\"none\"\n",
        ")"
      ],
      "metadata": {
        "id": "121K978_U0bX"
      },
      "execution_count": null,
      "outputs": []
    },
    {
      "cell_type": "code",
      "source": [
        "trainer = Trainer(\n",
        "    model=model,\n",
        "    args=training_args,\n",
        "    train_dataset=tokenized_datasets[\"train\"],\n",
        "    eval_dataset=tokenized_datasets[\"validation\"],\n",
        "    data_collator=data_collator,\n",
        ")"
      ],
      "metadata": {
        "id": "PI59ms0TVLWJ"
      },
      "execution_count": null,
      "outputs": []
    },
    {
      "cell_type": "code",
      "source": [
        "print(\"Starting training...\")\n",
        "trainer.train()\n",
        "print(\"Training completed!\")"
      ],
      "metadata": {
        "id": "hor4iANjVNhH"
      },
      "execution_count": null,
      "outputs": []
    },
    {
      "cell_type": "code",
      "source": [
        "trainer.evaluate()"
      ],
      "metadata": {
        "id": "nZ_bsYlaH-id"
      },
      "execution_count": null,
      "outputs": []
    },
    {
      "cell_type": "code",
      "source": [
        "def generate_text(prompt, model, tokenizer, max_length=50):\n",
        "    inputs = tokenizer(prompt, return_tensors=\"pt\").to(device)\n",
        "\n",
        "    with torch.no_grad():\n",
        "        outputs = model.generate(\n",
        "            inputs.input_ids,\n",
        "            max_length=max_length + len(inputs.input_ids[0]),\n",
        "            do_sample=True,\n",
        "            temperature=0.7,\n",
        "            top_k=50,\n",
        "            top_p=0.95,\n",
        "            pad_token_id=tokenizer.eos_token_id,\n",
        "            no_repeat_ngram_size=2\n",
        "        )\n",
        "\n",
        "    return tokenizer.decode(outputs[0], skip_special_tokens=True)"
      ],
      "metadata": {
        "id": "2todkeMEVUPG"
      },
      "execution_count": null,
      "outputs": []
    },
    {
      "cell_type": "code",
      "source": [
        "def calculate_perplexity(model, dataset):\n",
        "    eval_args = TrainingArguments(\n",
        "        output_dir=\"./eval_tmp\",\n",
        "        per_device_eval_batch_size=8,\n",
        "        fp16=torch.cuda.is_available(),\n",
        "        report_to=\"none\"\n",
        "    )\n",
        "\n",
        "    eval_trainer = Trainer(\n",
        "        model=model,\n",
        "        args=eval_args,\n",
        "        data_collator=data_collator\n",
        "    )\n",
        "\n",
        "    results = eval_trainer.evaluate(dataset)\n",
        "    return np.exp(results[\"eval_loss\"])"
      ],
      "metadata": {
        "id": "6e1F6QJZjbdX"
      },
      "execution_count": null,
      "outputs": []
    },
    {
      "cell_type": "code",
      "source": [
        "print(\"\\nEvaluating on validation set...\")\n",
        "val_perplexity = calculate_perplexity(model, tokenized_datasets[\"validation\"])\n",
        "print(f\"Validation Perplexity: {val_perplexity:.2f}\")"
      ],
      "metadata": {
        "id": "wTZwUxcEjPu8"
      },
      "execution_count": null,
      "outputs": []
    },
    {
      "cell_type": "code",
      "source": [
        "print(\"\\nEvaluating on test set...\")\n",
        "test_perplexity = calculate_perplexity(model, tokenized_datasets[\"test\"])\n",
        "print(f\"Test Perplexity: {test_perplexity:.2f}\")"
      ],
      "metadata": {
        "id": "ic208OnzjSns"
      },
      "execution_count": null,
      "outputs": []
    },
    {
      "cell_type": "code",
      "source": [
        "test_prompts = [\n",
        "    \"The capital of France is\",\n",
        "    \"In machine learning,\",\n",
        "    \"The main advantage of\",\n",
        "    \"The game began development\"\n",
        "]\n",
        "\n",
        "print(\"\\nText Generation Examples:\")\n",
        "for prompt in test_prompts:\n",
        "    generated = generate_text(prompt, model, tokenizer)\n",
        "    print(f\"\\nPrompt: {prompt}\")\n",
        "    print(f\"Generated: {generated}\")"
      ],
      "metadata": {
        "id": "AlpXZll-jXqO"
      },
      "execution_count": null,
      "outputs": []
    },
    {
      "cell_type": "code",
      "source": [
        "import huggingface_hub\n",
        "huggingface_hub.login()"
      ],
      "metadata": {
        "id": "haYrSDu7tSF5"
      },
      "execution_count": null,
      "outputs": []
    },
    {
      "cell_type": "code",
      "source": [
        "model.push_to_hub(\"ankursinha/text_completion_model_distilgpt2\")\n",
        "tokenizer.push_to_hub(\"ankursinha/text_completion_model_distilgpt2\")"
      ],
      "metadata": {
        "id": "lQrRCWh1GmUT"
      },
      "execution_count": null,
      "outputs": []
    }
  ]
}